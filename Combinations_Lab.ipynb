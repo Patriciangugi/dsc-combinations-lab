{
  "nbformat": 4,
  "nbformat_minor": 0,
  "metadata": {
    "colab": {
      "provenance": [],
      "authorship_tag": "ABX9TyPyGEAwUpeniSbaq9y7uREJ",
      "include_colab_link": true
    },
    "kernelspec": {
      "name": "python3",
      "display_name": "Python 3"
    },
    "language_info": {
      "name": "python"
    }
  },
  "cells": [
    {
      "cell_type": "markdown",
      "metadata": {
        "id": "view-in-github",
        "colab_type": "text"
      },
      "source": [
        "<a href=\"https://colab.research.google.com/github/Patriciangugi/dsc-combinations-lab/blob/master/Combinations_Lab.ipynb\" target=\"_parent\"><img src=\"https://colab.research.google.com/assets/colab-badge.svg\" alt=\"Open In Colab\"/></a>"
      ]
    },
    {
      "cell_type": "code",
      "execution_count": null,
      "metadata": {
        "id": "6PiStBjan5I2"
      },
      "outputs": [],
      "source": [
        "def factorial(n):\n",
        "    prod = 1\n",
        "    while n >= 1:\n",
        "        prod = prod * n\n",
        "        n = n - 1\n",
        "    return prod"
      ]
    },
    {
      "cell_type": "code",
      "source": [
        "def permutation(n, k):\n",
        "    return factorial(n) // factorial(n - k)"
      ],
      "metadata": {
        "id": "Hxlz6Jo_ooew"
      },
      "execution_count": null,
      "outputs": []
    },
    {
      "cell_type": "code",
      "source": [
        "def combination(n, k):\n",
        "    return factorial(n) // (factorial(k) * factorial(n - k))"
      ],
      "metadata": {
        "id": "CokbfvpBoonZ"
      },
      "execution_count": null,
      "outputs": []
    },
    {
      "cell_type": "code",
      "source": [
        "medal_top_3 = permutation(9, 3)\n",
        "print(medal_top_3)"
      ],
      "metadata": {
        "colab": {
          "base_uri": "https://localhost:8080/"
        },
        "id": "BOjeqfoGootN",
        "outputId": "c638ab48-43c4-45e5-ab25-7325ec913ec7"
      },
      "execution_count": null,
      "outputs": [
        {
          "output_type": "stream",
          "name": "stdout",
          "text": [
            "504\n"
          ]
        }
      ]
    },
    {
      "cell_type": "code",
      "source": [
        " def factorial(n):\n",
        "    prod = 1\n",
        "    while n >= 1:\n",
        "        prod = prod * n\n",
        "        n = n - 1\n",
        "    return prod\n",
        "\n",
        "def permutation(n, k):\n",
        "    return factorial(n) // factorial(n - k)\n",
        "\n",
        "def combination(n, k):\n",
        "    return factorial(n) // (factorial(k) * factorial(n - k))\n",
        "\n",
        "scholarship_top_3 = combination(9, 3)\n",
        "print(scholarship_top_3)"
      ],
      "metadata": {
        "id": "0EwVbfjCoox3",
        "colab": {
          "base_uri": "https://localhost:8080/"
        },
        "outputId": "715bc3a3-e878-4253-98f2-b9fcce9e451b"
      },
      "execution_count": 3,
      "outputs": [
        {
          "output_type": "stream",
          "name": "stdout",
          "text": [
            "84\n"
          ]
        }
      ]
    },
    {
      "cell_type": "code",
      "source": [
        "from scipy.special import comb\n",
        "\n",
        "draw_cons = comb(6, 2)\n",
        "print(draw_cons)\n",
        "\n",
        "draw_vow = comb(4, 3)\n",
        "print(draw_vow)"
      ],
      "metadata": {
        "colab": {
          "base_uri": "https://localhost:8080/"
        },
        "id": "c_nl85v2rNnH",
        "outputId": "3ee2085b-7373-4ec3-b560-015f18a4fd62"
      },
      "execution_count": 5,
      "outputs": [
        {
          "output_type": "stream",
          "name": "stdout",
          "text": [
            "15.0\n",
            "4.0\n"
          ]
        }
      ]
    },
    {
      "cell_type": "code",
      "source": [
        "sample = combination(10, 5)\n",
        "print(sample)\n"
      ],
      "metadata": {
        "colab": {
          "base_uri": "https://localhost:8080/"
        },
        "id": "N56vI_3LrNsD",
        "outputId": "a693fff3-f3a8-4a47-bb94-56163298ae97"
      },
      "execution_count": 6,
      "outputs": [
        {
          "output_type": "stream",
          "name": "stdout",
          "text": [
            "252\n"
          ]
        }
      ]
    },
    {
      "cell_type": "code",
      "source": [
        "def factorial(n):\n",
        "    prod = 1\n",
        "    while n >= 1:\n",
        "        prod = prod * n\n",
        "        n = n - 1\n",
        "    return prod\n",
        "\n",
        "def combination(n, k):\n",
        "    return factorial(n) // (factorial(k) * factorial(n - k))\n",
        "\n",
        "# Number of ways to draw 2 consonants out of 6\n",
        "draw_cons = combination(6, 2)\n",
        "print(, draw_cons)\n",
        "\n",
        "# Number of ways to draw 3 vowels out of 4\n",
        "draw_vow = combination(4, 3)\n",
        "print(, draw_vow)\n",
        "\n",
        "# Total number of ways to draw 5 letters out of 10\n",
        "total_ways = combination(10, 5)\n",
        "print(, total_ways)\n",
        "\n",
        "# Probability calculation\n",
        "successful_ways = draw_cons * draw_vow\n",
        "probability = successful_ways / total_ways\n",
        "print(, probability)\n"
      ],
      "metadata": {
        "colab": {
          "base_uri": "https://localhost:8080/"
        },
        "id": "5UBDiSoSrNwq",
        "outputId": "5cabf63d-3aeb-4c3c-cdb7-e361e169244b"
      },
      "execution_count": 11,
      "outputs": [
        {
          "output_type": "stream",
          "name": "stdout",
          "text": [
            "Number of ways to draw 2 consonants out of 6: 15\n",
            "Number of ways to draw 3 vowels out of 4: 4\n",
            "Total number of ways to draw 5 letters out of 10: 252\n",
            "Probability of drawing exactly 2 consonants and 3 vowels: 0.23809523809523808\n"
          ]
        }
      ]
    },
    {
      "cell_type": "code",
      "source": [
        "draw_cons = combination(6, 2)\n",
        "print(\"Number of ways to draw 2 consonants out of 6:\", draw_cons)\n",
        "\n",
        "# Number of ways to draw 3 vowels out of 4\n",
        "draw_vow = combination(4, 3)\n",
        "print(\"Number of ways to draw 3 vowels out of 4:\", draw_vow)\n",
        "\n",
        "# Total number of ways to select 2 consonants and 3 vowels\n",
        "total_selections = draw_cons * draw_vow\n",
        "print(\"Total number of ways to select 2 consonants and 3 vowels:\", total_selections)\n",
        "\n",
        "# Number of ways to arrange 5 letters (2 consonants and 3 vowels)\n",
        "arrangements = factorial(5)\n",
        "print(\"Number of ways to arrange 5 letters:\", arrangements)\n",
        "\n",
        "# Total number of words that can be formed\n",
        "total_words = total_selections * arrangements\n",
        "print(\"Total number of words with 2 consonants and 3 vowels:\", total_words)"
      ],
      "metadata": {
        "colab": {
          "base_uri": "https://localhost:8080/"
        },
        "id": "fftWvhitugGZ",
        "outputId": "774575aa-b771-4dfb-cd95-ce38f934e7fe"
      },
      "execution_count": 17,
      "outputs": [
        {
          "output_type": "stream",
          "name": "stdout",
          "text": [
            "Number of ways to draw 2 consonants out of 6: 15\n",
            "Number of ways to draw 3 vowels out of 4: 4\n",
            "Total number of ways to select 2 consonants and 3 vowels: 60\n",
            "Number of ways to arrange 5 letters: 120\n",
            "Total number of words with 2 consonants and 3 vowels: 7200\n"
          ]
        }
      ]
    },
    {
      "cell_type": "code",
      "source": [
        "total_selections = draw_cons * draw_vow\n",
        "print(\"Total number of ways to select 2 consonants and 3 vowels:\", total_selections)\n",
        "\n",
        "order_5_letters = factorial(5)\n",
        "print(\"Number of ways to arrange 5 letters:\", order_5_letters)\n",
        "\n",
        "total_words = total_selections * order_5_letters\n",
        "print(\"Total number of words with 2 consonants and 3 vowels:\", total_words)"
      ],
      "metadata": {
        "colab": {
          "base_uri": "https://localhost:8080/"
        },
        "id": "CXeoblDAugKD",
        "outputId": "52658f20-19be-4f0e-f60d-d2c8735898c1"
      },
      "execution_count": 22,
      "outputs": [
        {
          "output_type": "stream",
          "name": "stdout",
          "text": [
            "Total number of ways to select 2 consonants and 3 vowels: 60\n",
            "Number of ways to arrange 5 letters: 120\n",
            "Total number of words with 2 consonants and 3 vowels: 7200\n"
          ]
        }
      ]
    },
    {
      "cell_type": "code",
      "source": [
        "total_words = total_selections * factorial(5)\n",
        "print(\"In total,\",  total_words, \"words with 2 consonants and 3 vowels can be formed from our existing letter pool.\")"
      ],
      "metadata": {
        "colab": {
          "base_uri": "https://localhost:8080/"
        },
        "id": "CueypOdhugSZ",
        "outputId": "9a44db48-5597-42d7-c2c7-3720e3d37aba"
      },
      "execution_count": 25,
      "outputs": [
        {
          "output_type": "stream",
          "name": "stdout",
          "text": [
            "In total, 7200 words with 2 consonants and 3 vowels can be formed from our existing letter pool.\n"
          ]
        }
      ]
    },
    {
      "cell_type": "code",
      "source": [
        "def factorial(n):\n",
        "    prod = 1\n",
        "    while n >= 1:\n",
        "        prod *= n\n",
        "        n -= 1\n",
        "    return prod\n",
        "\n",
        "def combination(n, k):\n",
        "    return factorial(n) // (factorial(k) * factorial(n - k))\n",
        "\n",
        "ways_to_form_teams = (combination(16, 4) * combination(12, 4) * combination(8, 4) * combination(4, 4)) // factorial(4)\n",
        "\n",
        "print(\"Number of ways to form 4 teams of 4 from 16 participants:\", ways_to_form_teams)\n"
      ],
      "metadata": {
        "colab": {
          "base_uri": "https://localhost:8080/"
        },
        "id": "bFN6NPkhzjue",
        "outputId": "76085733-1f0e-47d5-8f7f-8a8128799ff8"
      },
      "execution_count": 28,
      "outputs": [
        {
          "output_type": "stream",
          "name": "stdout",
          "text": [
            "Number of ways to form 4 teams of 4 from 16 participants: 2627625\n"
          ]
        }
      ]
    },
    {
      "cell_type": "code",
      "source": [],
      "metadata": {
        "id": "YF_RGpoMzj7H"
      },
      "execution_count": null,
      "outputs": []
    },
    {
      "cell_type": "code",
      "source": [],
      "metadata": {
        "id": "2ieCAiMHzkAq"
      },
      "execution_count": null,
      "outputs": []
    },
    {
      "cell_type": "code",
      "source": [],
      "metadata": {
        "id": "ALXUJ7YazkFX"
      },
      "execution_count": null,
      "outputs": []
    }
  ]
}